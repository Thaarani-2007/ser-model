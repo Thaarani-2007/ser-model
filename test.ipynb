{
 "cells": [
  {
   "cell_type": "code",
   "execution_count": 1,
   "id": "d59f2af5-15b0-449f-bc9b-debacd68e40b",
   "metadata": {},
   "outputs": [],
   "source": [
    "import joblib\n",
    "import numpy as np\n",
    "import librosa\n"
   ]
  },
  {
   "cell_type": "code",
   "execution_count": 3,
   "id": "437156c9-de74-4d13-b0ef-7e384c825efd",
   "metadata": {},
   "outputs": [],
   "source": [
    "model = joblib.load(\"xgb_ravdess_emotion_model.pkl\")\n",
    "label_encoder = joblib.load(\"label_encoder.pkl\")\n"
   ]
  },
  {
   "cell_type": "code",
   "execution_count": 4,
   "id": "341f6372-178c-4740-8b0f-b54342975d68",
   "metadata": {},
   "outputs": [],
   "source": [
    "def extract_features_for_prediction(file_path):\n",
    "    audio, sample_rate = librosa.load(file_path, res_type='kaiser_fast')\n",
    "    \n",
    "    mfccs = librosa.feature.mfcc(y=audio, sr=sample_rate, n_mfcc=60)\n",
    "    chroma = librosa.feature.chroma_stft(y=audio, sr=sample_rate)\n",
    "    mel = librosa.feature.melspectrogram(y=audio, sr=sample_rate)\n",
    "    log_mel = librosa.power_to_db(mel)\n",
    "    contrast = librosa.feature.spectral_contrast(y=audio, sr=sample_rate)\n",
    "    zcr = librosa.feature.zero_crossing_rate(y=audio)\n",
    "    \n",
    "    features = np.hstack([\n",
    "        np.mean(mfccs.T, axis=0),\n",
    "        np.mean(chroma.T, axis=0),\n",
    "        np.mean(log_mel.T, axis=0),\n",
    "        np.mean(contrast.T, axis=0),\n",
    "        np.mean(zcr.T, axis=0)\n",
    "    ])\n",
    "    \n",
    "    return features.reshape(1, -1) "
   ]
  },
  {
   "cell_type": "code",
   "execution_count": null,
   "id": "786b724b-91f2-4853-ac11-28988f15f5d6",
   "metadata": {},
   "outputs": [],
   "source": [
    "new_audio_path = r\"C:\\Users\\Thaar\\OneDrive\\Desktop\\project 1\\voice_recordings\\03-01-02-01-01-01-08.wav\""
   ]
  }
 ],
 "metadata": {
  "kernelspec": {
   "display_name": "Python 3 (ipykernel)",
   "language": "python",
   "name": "python3"
  },
  "language_info": {
   "codemirror_mode": {
    "name": "ipython",
    "version": 3
   },
   "file_extension": ".py",
   "mimetype": "text/x-python",
   "name": "python",
   "nbconvert_exporter": "python",
   "pygments_lexer": "ipython3",
   "version": "3.12.3"
  }
 },
 "nbformat": 4,
 "nbformat_minor": 5
}
