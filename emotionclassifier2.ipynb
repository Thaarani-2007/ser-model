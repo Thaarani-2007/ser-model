{
 "cells": [
  {
   "cell_type": "code",
   "execution_count": 1,
   "id": "37bfa08e-3cc8-42f4-b706-c8c14826e2f0",
   "metadata": {},
   "outputs": [
    {
     "name": "stdout",
     "output_type": "stream",
     "text": [
      "Requirement already satisfied: xgboost in c:\\users\\thaar\\anaconda3\\lib\\site-packages (3.0.2)\n",
      "Requirement already satisfied: numpy in c:\\users\\thaar\\anaconda3\\lib\\site-packages (from xgboost) (1.26.4)\n",
      "Requirement already satisfied: scipy in c:\\users\\thaar\\anaconda3\\lib\\site-packages (from xgboost) (1.13.1)\n"
     ]
    }
   ],
   "source": [
    "!pip install xgboost\n"
   ]
  },
  {
   "cell_type": "code",
   "execution_count": 3,
   "id": "54ef305e-c48c-4b1f-b738-8f441cb7df4a",
   "metadata": {},
   "outputs": [],
   "source": [
    "import os\n",
    "import numpy as np\n",
    "import librosa\n",
    "import random\n",
    "from sklearn.preprocessing import LabelEncoder\n",
    "from sklearn.model_selection import train_test_split, GridSearchCV\n",
    "from xgboost import XGBClassifier\n",
    "from sklearn.metrics import classification_report, confusion_matrix, ConfusionMatrixDisplay\n",
    "import matplotlib.pyplot as plt\n",
    "import joblib"
   ]
  },
  {
   "cell_type": "code",
   "execution_count": 4,
   "id": "0af533ba-4bea-4880-b49d-bdcd2f199419",
   "metadata": {},
   "outputs": [],
   "source": [
    "def add_noise(data, noise_factor=0.005):\n",
    "    noise = np.random.randn(len(data))\n",
    "    augmented_data = data + noise_factor * noise\n",
    "    return augmented_data\n",
    "\n",
    "def change_speed(data, sample_rate, speed_factor=1.0):\n",
    "    new_sample_rate = int(sample_rate * speed_factor)\n",
    "    return librosa.resample(data, orig_sr=sample_rate, target_sr=new_sample_rate)"
   ]
  },
  {
   "cell_type": "code",
   "execution_count": 6,
   "id": "c38a6866-ec3e-4bbb-8f58-1f16238f15b2",
   "metadata": {},
   "outputs": [],
   "source": [
    "def extract_features(file_path, augment=False):\n",
    "    audio, sample_rate = librosa.load(file_path, res_type='kaiser_fast')\n",
    "    \n",
    "    if augment:\n",
    "        # Randomly choose an augmentation\n",
    "        aug_type = random.choice(['noise', 'speed', 'none'])\n",
    "        if aug_type == 'noise':\n",
    "             audio = add_noise(audio)\n",
    "        elif aug_type == 'speed':\n",
    "            speed_factor = random.uniform(0.9, 1.1)\n",
    "            audio = change_speed(audio, sample_rate, speed_factor)\n",
    "    \n",
    "    # Longer MFCC with 60 coefficients\n",
    "    mfccs = librosa.feature.mfcc(y=audio, sr=sample_rate, n_mfcc=60)\n",
    "    chroma = librosa.feature.chroma_stft(y=audio, sr=sample_rate)\n",
    "    mel = librosa.feature.melspectrogram(y=audio, sr=sample_rate)\n",
    "    log_mel = librosa.power_to_db(mel)\n",
    "    contrast = librosa.feature.spectral_contrast(y=audio, sr=sample_rate)\n",
    "    zcr = librosa.feature.zero_crossing_rate(y=audio)\n",
    "    \n",
    "    features = np.hstack([\n",
    "        np.mean(mfccs.T, axis=0),\n",
    "        np.mean(chroma.T, axis=0),\n",
    "        np.mean(log_mel.T, axis=0),\n",
    "        np.mean(contrast.T, axis=0),\n",
    "        np.mean(zcr.T, axis=0)\n",
    "    ])\n",
    "    return features "
   ]
  },
  {
   "cell_type": "code",
   "execution_count": 8,
   "id": "a8a59622-6429-4b93-afa7-85d689623551",
   "metadata": {},
   "outputs": [],
   "source": [
    "def load_data(data_path, augment_factor=2):\n",
    "    features_list = []\n",
    "    labels = []\n",
    "    \n",
    "    # Allowed emotions (filter)\n",
    "    allowed_emotions = {1:'neutral', 2:'calm', 3:'happy', 4:'sad', 5:'angry'}\n",
    "    \n",
    "    for root, _, files in os.walk(data_path):\n",
    "        for file in files:\n",
    "            if file.endswith(\".wav\"):\n",
    "                file_path = os.path.join(root, file)\n",
    "                emotion_code = int(file.split(\"-\")[2])\n",
    "                emotion = allowed_emotions.get(emotion_code)\n",
    "                if emotion is None:\n",
    "                    continue\n",
    "                \n",
    "                # Original audio feature\n",
    "                features = extract_features(file_path, augment=False)\n",
    "                features_list.append(features)\n",
    "                labels.append(emotion)\n",
    "                \n",
    "                # Augmented features (multiply data)\n",
    "                for _ in range(augment_factor):\n",
    "                    aug_features = extract_features(file_path, augment=True)\n",
    "                    features_list.append(aug_features)\n",
    "                    labels.append(emotion)\n",
    "                    \n",
    "    return np.array(features_list), np.array(labels)"
   ]
  },
  {
   "cell_type": "code",
   "execution_count": 9,
   "id": "28f01c02-2cab-4327-ac19-5ddb50b5f93c",
   "metadata": {},
   "outputs": [
    {
     "name": "stdout",
     "output_type": "stream",
     "text": [
      "Loading data and extracting features with augmentation... This can take some time.\n"
     ]
    },
    {
     "name": "stderr",
     "output_type": "stream",
     "text": [
      "C:\\Users\\Thaar\\anaconda3\\Lib\\site-packages\\paramiko\\pkey.py:82: CryptographyDeprecationWarning: TripleDES has been moved to cryptography.hazmat.decrepit.ciphers.algorithms.TripleDES and will be removed from this module in 48.0.0.\n",
      "  \"cipher\": algorithms.TripleDES,\n",
      "C:\\Users\\Thaar\\anaconda3\\Lib\\site-packages\\paramiko\\transport.py:219: CryptographyDeprecationWarning: Blowfish has been moved to cryptography.hazmat.decrepit.ciphers.algorithms.Blowfish and will be removed from this module in 45.0.0.\n",
      "  \"class\": algorithms.Blowfish,\n",
      "C:\\Users\\Thaar\\anaconda3\\Lib\\site-packages\\paramiko\\transport.py:243: CryptographyDeprecationWarning: TripleDES has been moved to cryptography.hazmat.decrepit.ciphers.algorithms.TripleDES and will be removed from this module in 48.0.0.\n",
      "  \"class\": algorithms.TripleDES,\n"
     ]
    },
    {
     "name": "stdout",
     "output_type": "stream",
     "text": [
      "Data shape: (2592, 208), Labels shape: (2592,)\n"
     ]
    }
   ],
   "source": [
    "data_path = r\"C:\\Users\\Thaar\\OneDrive\\Desktop\\project 1\\voice_recordings\"  # Change to your dataset path\n",
    "print(\"Loading data and extracting features with augmentation... This can take some time.\")\n",
    "\n",
    "X, y = load_data(data_path, augment_factor=2)  # You get 3x data: original + 2 augmented\n",
    "print(f\"Data shape: {X.shape}, Labels shape: {y.shape}\")\n",
    "\n",
    "le = LabelEncoder()\n",
    "y_encoded = le.fit_transform(y)\n",
    "\n",
    "X_train, X_test, y_train, y_test = train_test_split(\n",
    "    X, y_encoded, test_size=0.2, random_state=42, stratify=y_encoded\n",
    ")                                                                           "
   ]
  },
  {
   "cell_type": "code",
   "execution_count": 10,
   "id": "f9594933-d93d-41dd-84c0-de5e69cec402",
   "metadata": {},
   "outputs": [
    {
     "name": "stdout",
     "output_type": "stream",
     "text": [
      "Starting Grid Search for XGBoost hyperparameters...\n",
      "Fitting 3 folds for each of 24 candidates, totalling 72 fits\n"
     ]
    },
    {
     "name": "stderr",
     "output_type": "stream",
     "text": [
      "C:\\Users\\Thaar\\anaconda3\\Lib\\site-packages\\xgboost\\training.py:183: UserWarning: [23:49:45] WARNING: C:\\actions-runner\\_work\\xgboost\\xgboost\\src\\learner.cc:738: \n",
      "Parameters: { \"use_label_encoder\" } are not used.\n",
      "\n",
      "  bst.update(dtrain, iteration=i, fobj=obj)\n"
     ]
    },
    {
     "name": "stdout",
     "output_type": "stream",
     "text": [
      "Best parameters found: {'learning_rate': 0.1, 'max_depth': 6, 'n_estimators': 200, 'subsample': 0.7}\n"
     ]
    }
   ],
   "source": [
    "param_grid = {\n",
    "    'n_estimators': [100, 200],\n",
    "    'max_depth': [6, 10, 15],\n",
    "    'learning_rate': [0.01, 0.1],\n",
    "    'subsample': [0.7, 1.0]\n",
    "}\n",
    "\n",
    "xgb = XGBClassifier(use_label_encoder=False, eval_metric='mlogloss', random_state=42, n_jobs=-1)\n",
    "\n",
    "grid_search = GridSearchCV(xgb, param_grid, cv=3, verbose=2, n_jobs=-1)\n",
    "print(\"Starting Grid Search for XGBoost hyperparameters...\")\n",
    "grid_search.fit(X_train, y_train)\n",
    "\n",
    "print(\"Best parameters found:\", grid_search.best_params_)\n",
    "best_model = grid_search.best_estimator_\n"
   ]
  },
  {
   "cell_type": "code",
   "execution_count": 11,
   "id": "c283a2e6-b992-45e9-a7d7-1a189043f87c",
   "metadata": {},
   "outputs": [
    {
     "name": "stdout",
     "output_type": "stream",
     "text": [
      "Training Accuracy: 100.00%\n",
      "Testing Accuracy: 84.97%\n",
      "Classification Report:\n",
      "               precision    recall  f1-score   support\n",
      "\n",
      "       angry       0.95      0.95      0.95       115\n",
      "        calm       0.78      0.90      0.84       115\n",
      "       happy       0.83      0.91      0.87       116\n",
      "     neutral       0.90      0.64      0.75        58\n",
      "         sad       0.83      0.74      0.78       115\n",
      "\n",
      "    accuracy                           0.85       519\n",
      "   macro avg       0.86      0.83      0.84       519\n",
      "weighted avg       0.85      0.85      0.85       519\n",
      "\n"
     ]
    }
   ],
   "source": [
    "train_acc = best_model.score(X_train, y_train)\n",
    "test_acc = best_model.score(X_test, y_test)\n",
    "print(f\"Training Accuracy: {train_acc*100:.2f}%\")\n",
    "print(f\"Testing Accuracy: {test_acc*100:.2f}%\")\n",
    "\n",
    "y_pred = best_model.predict(X_test)\n",
    "print(\"Classification Report:\\n\", classification_report(y_test, y_pred, target_names=le.classes_))\n"
   ]
  },
  {
   "cell_type": "code",
   "execution_count": 12,
   "id": "ab8aae81-3e9f-47af-bf99-e7953dd36456",
   "metadata": {},
   "outputs": [
    {
     "data": {
      "image/png": "[encoded data removed]",
      "text/plain": [
       "<Figure size 640x480 with 2 Axes>"
      ]
     },
     "metadata": {},
     "output_type": "display_data"
    }
   ],
   "source": [
    "cm = confusion_matrix(y_test, y_pred)\n",
    "disp = ConfusionMatrixDisplay(confusion_matrix=cm, display_labels=le.classes_)\n",
    "disp.plot(cmap=plt.cm.Blues)\n",
    "plt.title(\"Confusion Matrix\")\n",
    "plt.show()"
   ]
  },
  {
   "cell_type": "code",
   "execution_count": null,
   "id": "1c1eb361-b2cc-4278-bd9e-d4ede04ce9d4",
   "metadata": {},
   "outputs": [],
   "source": []
  }
 ],
 "metadata": {
  "kernelspec": {
   "display_name": "Python 3 (ipykernel)",
   "language": "python",
   "name": "python3"
  },
  "language_info": {
   "codemirror_mode": {
    "name": "ipython",
    "version": 3
   },
   "file_extension": ".py",
   "mimetype": "text/x-python",
   "name": "python",
   "nbconvert_exporter": "python",
   "pygments_lexer": "ipython3",
   "version": "3.12.3"
  }
 },
 "nbformat": 4,
 "nbformat_minor": 5
}
